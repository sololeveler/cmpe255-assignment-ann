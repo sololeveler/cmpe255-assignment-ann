{
  "nbformat": 4,
  "nbformat_minor": 0,
  "metadata": {
    "colab": {
      "name": "Assignment.ipynb",
      "provenance": [],
      "machine_shape": "hm",
      "include_colab_link": true
    },
    "kernelspec": {
      "name": "python3",
      "display_name": "Python 3"
    },
    "language_info": {
      "name": "python"
    }
  },
  "cells": [
    {
      "cell_type": "markdown",
      "metadata": {
        "id": "view-in-github",
        "colab_type": "text"
      },
      "source": [
        "<a href=\"https://colab.research.google.com/github/sololeveler/cmpe255-assignment-ann/blob/master/Assignment.ipynb\" target=\"_parent\"><img src=\"https://colab.research.google.com/assets/colab-badge.svg\" alt=\"Open In Colab\"/></a>"
      ]
    },
    {
      "cell_type": "code",
      "metadata": {
        "id": "QQsKvBCbimlY"
      },
      "source": [
        "import os\n",
        "import zipfile\n",
        "import csv\n",
        "\n",
        "import requests\n",
        "\n",
        "\n",
        "def _download(url: str, dest_path: str):\n",
        "\n",
        "    req = requests.get(url, stream=True)\n",
        "    req.raise_for_status()\n",
        "\n",
        "    with open(dest_path, \"wb\") as fd:\n",
        "        for chunk in req.iter_content(chunk_size=2 ** 20):\n",
        "            fd.write(chunk)\n",
        "\n",
        "\n",
        "def get_data():\n",
        "\n",
        "    ratings_url = (\"http://www2.informatik.uni-freiburg.de/\" \"~cziegler/BX/BX-CSV-Dump.zip\")\n",
        "\n",
        "    if not os.path.exists(\"data\"):\n",
        "        os.makedirs(\"data\")\n",
        "\n",
        "        _download(ratings_url, \"data/data.zip\")\n",
        "\n",
        "    with zipfile.ZipFile(\"data/data.zip\") as archive:\n",
        "        return (\n",
        "            csv.DictReader(\n",
        "                (x.decode(\"utf-8\", \"ignore\") for x in archive.open(\"BX-Book-Ratings.csv\")),\n",
        "                delimiter=\";\",\n",
        "            ),\n",
        "            csv.DictReader(\n",
        "                (x.decode(\"utf-8\", \"ignore\") for x in archive.open(\"BX-Books.csv\")), delimiter=\";\"\n",
        "            ),\n",
        "        )\n",
        "\n",
        "\n",
        "def get_ratings():\n",
        "\n",
        "    return get_data()[0]\n",
        "\n",
        "\n",
        "def get_book_features():\n",
        "\n",
        "    return get_data()[1]\n",
        "\n",
        "def get_ratings_labels():\n",
        "    return get_data()[0].fieldnames  \n",
        "\n",
        "def get_books_labels():\n",
        "    return get_data()[1].fieldnames      "
      ],
      "execution_count": null,
      "outputs": []
    },
    {
      "cell_type": "code",
      "metadata": {
        "id": "VCN2zDGhiqN9"
      },
      "source": [
        "import json\n",
        "from itertools import islice\n",
        "\n",
        "ratings, book_features = get_data()"
      ],
      "execution_count": null,
      "outputs": []
    },
    {
      "cell_type": "code",
      "metadata": {
        "colab": {
          "base_uri": "https://localhost:8080/"
        },
        "id": "0-Y_jI5piuJW",
        "outputId": "90ab75f5-a073-4ae7-ac89-2b02967aef62"
      },
      "source": [
        "for line in islice(ratings, 2):\n",
        "    print(json.dumps(line, indent=4))"
      ],
      "execution_count": null,
      "outputs": [
        {
          "output_type": "stream",
          "name": "stdout",
          "text": [
            "{\n",
            "    \"User-ID\": \"276725\",\n",
            "    \"ISBN\": \"034545104X\",\n",
            "    \"Book-Rating\": \"0\"\n",
            "}\n",
            "{\n",
            "    \"User-ID\": \"276726\",\n",
            "    \"ISBN\": \"0155061224\",\n",
            "    \"Book-Rating\": \"5\"\n",
            "}\n"
          ]
        }
      ]
    },
    {
      "cell_type": "code",
      "metadata": {
        "colab": {
          "base_uri": "https://localhost:8080/"
        },
        "id": "3aEWMeDeixeY",
        "outputId": "48df8e76-3866-42fe-cd19-1d30d1c9a674"
      },
      "source": [
        "for line in islice(book_features, 1):\n",
        "    print(json.dumps(line, indent=4))\n",
        "    item_labels = json.dumps(line, indent=4)"
      ],
      "execution_count": null,
      "outputs": [
        {
          "output_type": "stream",
          "name": "stdout",
          "text": [
            "{\n",
            "    \"ISBN\": \"0195153448\",\n",
            "    \"Book-Title\": \"Classical Mythology\",\n",
            "    \"Book-Author\": \"Mark P. O. Morford\",\n",
            "    \"Year-Of-Publication\": \"2002\",\n",
            "    \"Publisher\": \"Oxford University Press\",\n",
            "    \"Image-URL-S\": \"http://images.amazon.com/images/P/0195153448.01.THUMBZZZ.jpg\",\n",
            "    \"Image-URL-M\": \"http://images.amazon.com/images/P/0195153448.01.MZZZZZZZ.jpg\",\n",
            "    \"Image-URL-L\": \"http://images.amazon.com/images/P/0195153448.01.LZZZZZZZ.jpg\"\n",
            "}\n"
          ]
        }
      ]
    },
    {
      "cell_type": "markdown",
      "metadata": {
        "id": "K1NavCn_WAjm"
      },
      "source": [
        "Obtain the lables for the vectors"
      ]
    },
    {
      "cell_type": "code",
      "metadata": {
        "id": "nbhsmkWi38vR"
      },
      "source": [
        "item_labels = []\n",
        "for x in get_book_features():\n",
        "  item_labels.append(x['Book-Title'])\n",
        "  \n"
      ],
      "execution_count": null,
      "outputs": []
    },
    {
      "cell_type": "code",
      "metadata": {
        "colab": {
          "base_uri": "https://localhost:8080/"
        },
        "id": "DT21t_k7-gYa",
        "outputId": "afc884d9-1669-4024-ccaf-4b98f87441c0"
      },
      "source": [
        "print(len(item_labels))"
      ],
      "execution_count": null,
      "outputs": [
        {
          "output_type": "stream",
          "name": "stdout",
          "text": [
            "271379\n"
          ]
        }
      ]
    },
    {
      "cell_type": "code",
      "metadata": {
        "colab": {
          "base_uri": "https://localhost:8080/"
        },
        "id": "cU6gqdK6i0pA",
        "outputId": "8764d557-05b3-4352-c698-d512706daf87"
      },
      "source": [
        "!pip install LightFM\n",
        "from lightfm.data import Dataset\n",
        "\n",
        "dataset = Dataset()\n",
        "dataset.fit((x['User-ID'] for x in get_ratings()),\n",
        "            (x['ISBN'] for x in get_ratings()))"
      ],
      "execution_count": null,
      "outputs": [
        {
          "output_type": "stream",
          "name": "stdout",
          "text": [
            "Collecting LightFM\n",
            "  Downloading lightfm-1.16.tar.gz (310 kB)\n",
            "\u001b[?25l\r\u001b[K     |█                               | 10 kB 25.6 MB/s eta 0:00:01\r\u001b[K     |██▏                             | 20 kB 30.4 MB/s eta 0:00:01\r\u001b[K     |███▏                            | 30 kB 36.6 MB/s eta 0:00:01\r\u001b[K     |████▎                           | 40 kB 21.7 MB/s eta 0:00:01\r\u001b[K     |█████▎                          | 51 kB 17.1 MB/s eta 0:00:01\r\u001b[K     |██████▍                         | 61 kB 13.8 MB/s eta 0:00:01\r\u001b[K     |███████▍                        | 71 kB 13.7 MB/s eta 0:00:01\r\u001b[K     |████████▌                       | 81 kB 14.8 MB/s eta 0:00:01\r\u001b[K     |█████████▌                      | 92 kB 14.9 MB/s eta 0:00:01\r\u001b[K     |██████████▋                     | 102 kB 11.0 MB/s eta 0:00:01\r\u001b[K     |███████████▋                    | 112 kB 11.0 MB/s eta 0:00:01\r\u001b[K     |████████████▊                   | 122 kB 11.0 MB/s eta 0:00:01\r\u001b[K     |█████████████▊                  | 133 kB 11.0 MB/s eta 0:00:01\r\u001b[K     |██████████████▉                 | 143 kB 11.0 MB/s eta 0:00:01\r\u001b[K     |███████████████▉                | 153 kB 11.0 MB/s eta 0:00:01\r\u001b[K     |█████████████████               | 163 kB 11.0 MB/s eta 0:00:01\r\u001b[K     |██████████████████              | 174 kB 11.0 MB/s eta 0:00:01\r\u001b[K     |███████████████████             | 184 kB 11.0 MB/s eta 0:00:01\r\u001b[K     |████████████████████            | 194 kB 11.0 MB/s eta 0:00:01\r\u001b[K     |█████████████████████▏          | 204 kB 11.0 MB/s eta 0:00:01\r\u001b[K     |██████████████████████▏         | 215 kB 11.0 MB/s eta 0:00:01\r\u001b[K     |███████████████████████▎        | 225 kB 11.0 MB/s eta 0:00:01\r\u001b[K     |████████████████████████▎       | 235 kB 11.0 MB/s eta 0:00:01\r\u001b[K     |█████████████████████████▍      | 245 kB 11.0 MB/s eta 0:00:01\r\u001b[K     |██████████████████████████▍     | 256 kB 11.0 MB/s eta 0:00:01\r\u001b[K     |███████████████████████████▌    | 266 kB 11.0 MB/s eta 0:00:01\r\u001b[K     |████████████████████████████▌   | 276 kB 11.0 MB/s eta 0:00:01\r\u001b[K     |█████████████████████████████▋  | 286 kB 11.0 MB/s eta 0:00:01\r\u001b[K     |██████████████████████████████▋ | 296 kB 11.0 MB/s eta 0:00:01\r\u001b[K     |███████████████████████████████▊| 307 kB 11.0 MB/s eta 0:00:01\r\u001b[K     |████████████████████████████████| 310 kB 11.0 MB/s \n",
            "\u001b[?25hRequirement already satisfied: numpy in /usr/local/lib/python3.7/dist-packages (from LightFM) (1.19.5)\n",
            "Requirement already satisfied: scipy>=0.17.0 in /usr/local/lib/python3.7/dist-packages (from LightFM) (1.4.1)\n",
            "Requirement already satisfied: requests in /usr/local/lib/python3.7/dist-packages (from LightFM) (2.23.0)\n",
            "Requirement already satisfied: scikit-learn in /usr/local/lib/python3.7/dist-packages (from LightFM) (1.0.1)\n",
            "Requirement already satisfied: urllib3!=1.25.0,!=1.25.1,<1.26,>=1.21.1 in /usr/local/lib/python3.7/dist-packages (from requests->LightFM) (1.24.3)\n",
            "Requirement already satisfied: chardet<4,>=3.0.2 in /usr/local/lib/python3.7/dist-packages (from requests->LightFM) (3.0.4)\n",
            "Requirement already satisfied: certifi>=2017.4.17 in /usr/local/lib/python3.7/dist-packages (from requests->LightFM) (2021.10.8)\n",
            "Requirement already satisfied: idna<3,>=2.5 in /usr/local/lib/python3.7/dist-packages (from requests->LightFM) (2.10)\n",
            "Requirement already satisfied: joblib>=0.11 in /usr/local/lib/python3.7/dist-packages (from scikit-learn->LightFM) (1.1.0)\n",
            "Requirement already satisfied: threadpoolctl>=2.0.0 in /usr/local/lib/python3.7/dist-packages (from scikit-learn->LightFM) (3.0.0)\n",
            "Building wheels for collected packages: LightFM\n",
            "  Building wheel for LightFM (setup.py) ... \u001b[?25l\u001b[?25hdone\n",
            "  Created wheel for LightFM: filename=lightfm-1.16-cp37-cp37m-linux_x86_64.whl size=697443 sha256=9a8915c53d13d452ccdd527f5c5cd0709e09e7aea77779d327044786d8108423\n",
            "  Stored in directory: /root/.cache/pip/wheels/f8/56/28/5772a3bd3413d65f03aa452190b00898b680b10028a1021914\n",
            "Successfully built LightFM\n",
            "Installing collected packages: LightFM\n",
            "Successfully installed LightFM-1.16\n"
          ]
        }
      ]
    },
    {
      "cell_type": "code",
      "metadata": {
        "colab": {
          "base_uri": "https://localhost:8080/"
        },
        "id": "td-k1pEni8Em",
        "outputId": "f553380a-50a9-40fc-c9d0-58fb6f1245bc"
      },
      "source": [
        "num_users, num_items = dataset.interactions_shape()\n",
        "print('Num users: {}, num_items {}.'.format(num_users, num_items))"
      ],
      "execution_count": null,
      "outputs": [
        {
          "output_type": "stream",
          "name": "stdout",
          "text": [
            "Num users: 105283, num_items 340553.\n"
          ]
        }
      ]
    },
    {
      "cell_type": "code",
      "metadata": {
        "id": "izoGA0rji-ob"
      },
      "source": [
        "dataset.fit_partial(items=(x['ISBN'] for x in get_book_features()),\n",
        "                    item_features=(x['Book-Author'] for x in get_book_features()))"
      ],
      "execution_count": null,
      "outputs": []
    },
    {
      "cell_type": "code",
      "metadata": {
        "colab": {
          "base_uri": "https://localhost:8080/"
        },
        "id": "1o397JNfjC5p",
        "outputId": "4586d793-8c32-4466-8d92-6b063e41e53d"
      },
      "source": [
        "(interactions, weights) = dataset.build_interactions(((x['User-ID'], x['ISBN'])\n",
        "                                                      for x in get_ratings()))\n",
        "\n",
        "print(repr(interactions))"
      ],
      "execution_count": null,
      "outputs": [
        {
          "output_type": "stream",
          "name": "stdout",
          "text": [
            "<105283x341762 sparse matrix of type '<class 'numpy.int32'>'\n",
            "\twith 1149780 stored elements in COOrdinate format>\n"
          ]
        }
      ]
    },
    {
      "cell_type": "code",
      "metadata": {
        "colab": {
          "base_uri": "https://localhost:8080/"
        },
        "id": "4Iwdk9Z9_Z4E",
        "outputId": "b2d385f7-73f5-4141-ac2b-f0555108d1c3"
      },
      "source": [
        "print(interactions.shape)"
      ],
      "execution_count": null,
      "outputs": [
        {
          "output_type": "stream",
          "name": "stdout",
          "text": [
            "(105283, 341762)\n"
          ]
        }
      ]
    },
    {
      "cell_type": "markdown",
      "metadata": {
        "id": "VJWDXNm2WFWs"
      },
      "source": [
        "Obtain item features"
      ]
    },
    {
      "cell_type": "code",
      "metadata": {
        "colab": {
          "base_uri": "https://localhost:8080/"
        },
        "id": "dfumNloqjJi_",
        "outputId": "58d73ac7-eed9-4c9c-a22b-0744d9d0cbf0"
      },
      "source": [
        "item_features = dataset.build_item_features(((x['ISBN'], [x['Book-Author']])\n",
        "                                              for x in get_book_features())) \n",
        "print(repr(item_features))"
      ],
      "execution_count": null,
      "outputs": [
        {
          "output_type": "stream",
          "name": "stdout",
          "text": [
            "<341762x443805 sparse matrix of type '<class 'numpy.float32'>'\n",
            "\twith 613141 stored elements in Compressed Sparse Row format>\n"
          ]
        }
      ]
    },
    {
      "cell_type": "code",
      "metadata": {
        "colab": {
          "base_uri": "https://localhost:8080/"
        },
        "id": "AzjMF_25_NZy",
        "outputId": "0c08289b-ab8a-468b-8727-80667e64bc61"
      },
      "source": [
        "print(item_features.shape)"
      ],
      "execution_count": null,
      "outputs": [
        {
          "output_type": "stream",
          "name": "stdout",
          "text": [
            "(341762, 443805)\n"
          ]
        }
      ]
    },
    {
      "cell_type": "code",
      "metadata": {
        "id": "_nxFxvzRjNN8"
      },
      "source": [
        "from lightfm import LightFM\n",
        "\n",
        "model = LightFM(learning_rate=0.05, loss='warp', no_components=64, item_alpha=0.001)\n",
        "model.fit(interactions, item_features=item_features)\n",
        "item_vectors = item_features * model.item_embeddings"
      ],
      "execution_count": null,
      "outputs": []
    },
    {
      "cell_type": "code",
      "metadata": {
        "colab": {
          "base_uri": "https://localhost:8080/"
        },
        "id": "01KFUwEf9UxZ",
        "outputId": "70f16847-48b7-4d3f-e844-825991e0b960"
      },
      "source": [
        "print(item_vectors.shape)"
      ],
      "execution_count": null,
      "outputs": [
        {
          "output_type": "stream",
          "name": "stdout",
          "text": [
            "(341762, 64)\n"
          ]
        }
      ]
    },
    {
      "cell_type": "code",
      "metadata": {
        "colab": {
          "base_uri": "https://localhost:8080/"
        },
        "id": "p7pEcIthl9Pg",
        "outputId": "9d366d4e-b554-4efe-9749-232d674f6329"
      },
      "source": [
        "import pickle \n",
        "!pip install faiss-cpu --no-cache\n",
        "import faiss"
      ],
      "execution_count": null,
      "outputs": [
        {
          "output_type": "stream",
          "name": "stdout",
          "text": [
            "Collecting faiss-cpu\n",
            "  Downloading faiss_cpu-1.7.1.post2-cp37-cp37m-manylinux_2_17_x86_64.manylinux2014_x86_64.whl (8.4 MB)\n",
            "\u001b[K     |████████████████████████████████| 8.4 MB 8.8 MB/s \n",
            "\u001b[?25hInstalling collected packages: faiss-cpu\n",
            "Successfully installed faiss-cpu-1.7.1.post2\n"
          ]
        }
      ]
    },
    {
      "cell_type": "code",
      "metadata": {
        "id": "WWiBZkoclUeZ"
      },
      "source": [
        "with open('books.pickle', 'wb') as f:\n",
        "    pickle.dump({\"name\": item_labels, \"vector\": item_vectors}, f)"
      ],
      "execution_count": null,
      "outputs": []
    },
    {
      "cell_type": "markdown",
      "metadata": {
        "id": "o3SqhPQfWJec"
      },
      "source": [
        "Describe the vector"
      ]
    },
    {
      "cell_type": "code",
      "metadata": {
        "colab": {
          "base_uri": "https://localhost:8080/"
        },
        "id": "nSnFtM7imjTh",
        "outputId": "4d5a00e1-1ce0-4397-ef93-e462219eba9c"
      },
      "source": [
        "def load_data():\n",
        "    with open('books.pickle', 'rb') as f:\n",
        "        data = pickle.load(f)\n",
        "    return data\n",
        "\n",
        "data = load_data()\n",
        "vectors = data[\"vector\"]\n",
        "names = data[\"name\"]\n",
        "data"
      ],
      "execution_count": null,
      "outputs": [
        {
          "output_type": "execute_result",
          "data": {
            "text/plain": [
              "{'name': ['Classical Mythology',\n",
              "  'Clara Callan',\n",
              "  'Decision in Normandy',\n",
              "  'Flu: The Story of the Great Influenza Pandemic of 1918 and the Search for the Virus That Caused It',\n",
              "  'The Mummies of Urumchi',\n",
              "  \"The Kitchen God's Wife\",\n",
              "  \"What If?: The World's Foremost Military Historians Imagine What Might Have Been\",\n",
              "  'PLEADING GUILTY',\n",
              "  'Under the Black Flag: The Romance and the Reality of Life Among the Pirates',\n",
              "  \"Where You'll Find Me: And Other Stories\",\n",
              "  'Nights Below Station Street',\n",
              "  \"Hitler's Secret Bankers: The Myth of Swiss Neutrality During the Holocaust\",\n",
              "  'The Middle Stories',\n",
              "  'Jane Doe',\n",
              "  \"A Second Chicken Soup for the Woman's Soul (Chicken Soup for the Soul Series)\",\n",
              "  'The Witchfinder (Amos Walker Mystery Series)',\n",
              "  'More Cunning Than Man: A Social History of Rats and Man',\n",
              "  'Goodbye to the Buttermilk Sky',\n",
              "  'The Testament',\n",
              "  'Beloved (Plume Contemporary Fiction)',\n",
              "  \"Our Dumb Century: The Onion Presents 100 Years of Headlines from America's Finest News Source\",\n",
              "  'New Vegetarian: Bold and Beautiful Recipes for Every Occasion',\n",
              "  \"If I'd Known Then What I Know Now: Why Not Learn from the Mistakes of Others? : You Can't Afford to Make Them All Yourself\",\n",
              "  'Mary-Kate &amp; Ashley Switching Goals (Mary-Kate and Ashley Starring in)',\n",
              "  \"Tell Me This Isn't Happening\",\n",
              "  'Flood : Mississippi 1927',\n",
              "  'Wild Animus',\n",
              "  'Airframe',\n",
              "  'Timeline',\n",
              "  'OUT OF THE SILENT PLANET',\n",
              "  'Prague : A Novel',\n",
              "  'Chocolate Jesus',\n",
              "  'Wie Barney es sieht.',\n",
              "  'Der Fluch der Kaiserin. Ein Richter- Di- Roman.',\n",
              "  'Sturmzeit. Roman.',\n",
              "  'Tage der Unschuld.',\n",
              "  'Lying Awake',\n",
              "  'To Kill a Mockingbird',\n",
              "  'Seabiscuit: An American Legend',\n",
              "  'Pigs in Heaven',\n",
              "  \"Miss Zukas and the Raven's Dance\",\n",
              "  'Pride and Prejudice',\n",
              "  'The Therapeutic Touch: How to Use Your Hands to Help or to Heal',\n",
              "  'Downtown',\n",
              "  'Icebound',\n",
              "  \"I'll Be Seeing You\",\n",
              "  'From the Corner of His Eye',\n",
              "  'Isle of Dogs',\n",
              "  'Purity in Death',\n",
              "  'This Year It Will Be Different: And Other Stories',\n",
              "  'Proxies',\n",
              "  \"Left Behind: A Novel of the Earth's Last Days (Left Behind #1)\",\n",
              "  'The Street Lawyer',\n",
              "  'Love, Medicine and Miracles',\n",
              "  \"All the King's Men\",\n",
              "  'Pacific Northwest',\n",
              "  'A Soldier of the Great War',\n",
              "  'Getting Well Again',\n",
              "  'Northwest Wines and Wineries',\n",
              "  'An Atmosphere of Eternity: Stories of India',\n",
              "  'LONESOME DOVE',\n",
              "  'Shabanu: Daughter of the Wind (Border Trilogy)',\n",
              "  'Haveli (Laurel Leaf Books)',\n",
              "  'Lieux dits',\n",
              "  'The Dragons of Eden: Speculations on the Evolution of Human Intelligence',\n",
              "  'The yawning heights',\n",
              "  'Breathing Lessons',\n",
              "  'The Joy Luck Club',\n",
              "  'Heart of Darkness (Wordsworth Collection)',\n",
              "  'The Angel Is Near',\n",
              "  \"Tess of the D'Urbervilles (Wordsworth Classics)\",\n",
              "  'The Adventures of Drew and Ellie: The Magical Dress',\n",
              "  'The Accidental Virgin',\n",
              "  'The Tao of Pooh',\n",
              "  'Seabiscuit',\n",
              "  'The Prince',\n",
              "  \"Life's Little Instruction Book (Life's Little Instruction Books (Paperback))\",\n",
              "  'Starship Troopers',\n",
              "  'The Ruby in the Smoke (Sally Lockhart Trilogy, Book 1)',\n",
              "  'Black Beauty (Illustrated Classics)',\n",
              "  \"Anil's Ghost\",\n",
              "  'Prescription for Terror',\n",
              "  'Modern Manners: An Etiquette Book for Rude People',\n",
              "  'Turning Thirty',\n",
              "  'Decipher',\n",
              "  'My First Cousin Once Removed: Money, Madness, and the Family of Robert Lowell',\n",
              "  'Standing Firm: A Vice-Presidential Memoir',\n",
              "  'Team Bush : Leadership Lessons from the Bush White House',\n",
              "  'The Right Man : The Surprise Presidency of George W. Bush',\n",
              "  'Daybreakers Louis Lamour Collection',\n",
              "  'The Catcher in the Rye',\n",
              "  'El Senor De Los Anillos: LA Comunidad Del Anillo (Lord of the Rings (Spanish))',\n",
              "  'El Senor De Los Anillos: Las DOS Torres (Lord of the Rings (Paperback))',\n",
              "  'El Senor De Los Anillos: El Retorno Del Rey (Tolkien, J. R. R. Lord of the Rings. 3.)',\n",
              "  'Midnight in the Garden of Good and Evil: A Savannah Story',\n",
              "  \"Pretend You Don't See Her\",\n",
              "  'Fast Women',\n",
              "  'Female Intelligence',\n",
              "  \"Pasquale's Nose: Idle Days in an Italian Town\",\n",
              "  'The Gospel of Judas: A Novel',\n",
              "  \"Prize Stories, 1987: The O'Henry Awards\",\n",
              "  'Rich Dad, Poor Dad: What the Rich Teach Their Kids About Money--That the Poor and Middle Class Do Not!',\n",
              "  'The Pillars of the Earth',\n",
              "  \"McDonald's: Behind the Arches\",\n",
              "  \"Creating Wealth : Retire in Ten Years Using Allen's Seven Principles of Wealth!\",\n",
              "  \"Corelli's Mandolin : A Novel\",\n",
              "  'Love, Miracles, and Animal Healing : A heartwarming look at the spiritual bond between animals and humans',\n",
              "  'The Five People You Meet in Heaven',\n",
              "  'Tu Nombre Escrito En El Agua (La Sonrisa Vertical)',\n",
              "  'Relics (Star Trek: The Next Generation)',\n",
              "  'Bless The Beasts And Children : Bless The Beasts And Children',\n",
              "  'The Touch of Your Shadow, the Whisper of Your Name (Babylon 5, Book 5)',\n",
              "  'Blood Oath',\n",
              "  'The Alibi',\n",
              "  'The Beach House',\n",
              "  'A Kiss Remembered',\n",
              "  'The Short Forever',\n",
              "  'Dead Aim',\n",
              "  'Angels &amp; Demons',\n",
              "  'The Deal',\n",
              "  'All He Ever Wanted: A Novel',\n",
              "  'Every Breath You Take : A True Story of Obsession, Revenge, and Murder',\n",
              "  \"If I Ever Get Back to Georgia, I'm Gonna Nail My Feet to the Ground\",\n",
              "  'The Mosquito Coast',\n",
              "  \"If Love Were Oil, I'd Be About a Quart Low\",\n",
              "  'Goodbye, My Little Ones: The True Story of a Murderous Mother and Five Innocent Victims',\n",
              "  'The Girl Who Loved Tom Gordon',\n",
              "  'Bringing Down the House: The Inside Story of Six M.I.T. Students Who Took Vegas for Millions',\n",
              "  'The Oneprince (The Redaemian Chronicles, Book 1)',\n",
              "  'The Sum of All Fears',\n",
              "  'Care Packages : Letters to Christopher Reeve from Strangers and Other Friends',\n",
              "  'O Deus Das Pequenas Coisas',\n",
              "  'Lady in Green/Minor Indiscretions (Signet Regency Romance)',\n",
              "  'One Hundred Years of Solitude',\n",
              "  'Little Altars Everywhere: A Novel',\n",
              "  'Coyote Waits (Joe Leaphorn/Jim Chee Novels)',\n",
              "  'Before I Say Good-Bye',\n",
              "  'Slow Waltz in Cedar Bend',\n",
              "  'Twenty Minute Retreats: Revive Your Spirits in Just Minutes a Day (A Pan Self-discovery Title)',\n",
              "  'Atonement : A Novel',\n",
              "  'Next: The Future Just Happened',\n",
              "  'The Angelic Darkness',\n",
              "  'The Soulbane Stratagem',\n",
              "  'Gangster',\n",
              "  'Hush',\n",
              "  'Whisper of Evil (Hooper, Kay. Evil Trilogy.)',\n",
              "  'Temor y Temblor',\n",
              "  'Estudios sobre el amor',\n",
              "  'Rebecca',\n",
              "  'Scarlet Letter',\n",
              "  'Keep It Simple: And Get More Out of Life',\n",
              "  'Diary of a Mad Mom-To-Be',\n",
              "  'Locked in Time (Laurel Leaf Books)',\n",
              "  'Contact',\n",
              "  'The Brimstone Wedding',\n",
              "  'The Catswold Portal',\n",
              "  \"Through Wolf's Eyes (Wolf)\",\n",
              "  'Puerto Vallarta Squeeze',\n",
              "  'Tree Grows In Brooklyn',\n",
              "  'Cybill Disobedience: How I Survived Beauty Pageants, Elvis, Sex, Bruce Willis, Lies, Marriage, Motherhood, Hollywood, and the Irrepressible Urge to Say What I Think',\n",
              "  'Snow Angels',\n",
              "  'Wish You Well',\n",
              "  \"The Hitchhiker's Guide to the Galaxy\",\n",
              "  'Crow Lake (Today Show Book Club #7)',\n",
              "  'My Antonia',\n",
              "  'Pen Pals',\n",
              "  \"Bridget Jones's Diary\",\n",
              "  'Pride and Prejudice (Dover Thrift Editions)',\n",
              "  'EYE ON CRIME: HARDY BOYS #153',\n",
              "  'Skin And Bones',\n",
              "  'LAW OF THE JUNGLE (HARDY BOYS CASE FILE 105) : LAW OF THE JUNGLE (Hardy Boys, The)',\n",
              "  'The Cat Who Came to Breakfast (Cat Who... (Hardcover))',\n",
              "  \"If Singleness Is a Gift, What's the Return Policy?\",\n",
              "  \"Always Daddy's Girl: Understanding Your Father's Impact on Who You Are\",\n",
              "  'Night Mare (Xanth Novels (Paperback))',\n",
              "  'The Martian Chronicles',\n",
              "  'Kabale Und Liebe',\n",
              "  'Der illustrierte Mann. Erz?¤hlungen.',\n",
              "  'Der K?¶nig in Gelb.',\n",
              "  'Fahrenheit 451',\n",
              "  'Die Mars- Chroniken. Roman in Erz?¤hlungen.',\n",
              "  'Das B?¶se kommt auf leisen Sohlen.',\n",
              "  'L?¶wenzahnwein. Roman.',\n",
              "  'Das Kind von morgen. Erz?¤hlungen.',\n",
              "  'Die Mechanismen der Freude. Erz?¤hlungen.',\n",
              "  'Familientreffen. Erz?¤hlungen.',\n",
              "  'Der Tod kommt schnell in Mexico. Erz?¤hlungen.',\n",
              "  'Veronika Deschliesst Zu Sterben / Vernika Decides to Die',\n",
              "  'Die Liebe in Den Zelten',\n",
              "  'Die Klone der Joanna May. Roman.',\n",
              "  'Ist mein Hintern wirklich so dick? Tagebuch einer empfindsamen Frau.',\n",
              "  'Haifischfrauen.',\n",
              "  'Die Cappuccino- Jahre. Aus dem Tagebuch des Adrian Mole.',\n",
              "  'Schwarzer Tee mit drei Stück Zucker',\n",
              "  'Quersch?¼sse - Downsize This!',\n",
              "  'Die Korrekturen.',\n",
              "  'Neun Erz?¤hlungen.',\n",
              "  'Hebt den Dachbalken hoch, Zimmerleute / Seymour wird vorgestellt.',\n",
              "  'Ulysses (??bersetzg. Wollschl?¤ger). ( Neue Folge, 100).',\n",
              "  'Eine ganz normale Aff?¤re.',\n",
              "  'Das Intimleben des Adrian Mole, 13 3/4 Jahre. cbt. ( Ab 14 J.).',\n",
              "  'Das Buch der l?¤cherlichen Liebe.',\n",
              "  'The God of Small Things',\n",
              "  'The James Dean Affair: A Neil Gulliver &amp; Stevie Marriner Novel',\n",
              "  'The Big Bad Wolf: A Novel',\n",
              "  'Four Blind Mice',\n",
              "  'Private Screening',\n",
              "  'Congo',\n",
              "  'Protect and Defend',\n",
              "  'The Tall Pine Polka',\n",
              "  'Memoirs of a Geisha',\n",
              "  'Plainsong (Vintage Contemporaries)',\n",
              "  'Body of Evidence (Kay Scarpetta Mysteries (Paperback))',\n",
              "  'All That Remains (Kay Scarpetta Mysteries (Paperback))',\n",
              "  'The Case of the Lost Look-Alike (An Avon Camelot Book)',\n",
              "  'Petals on the River',\n",
              "  'The Elusive Flame',\n",
              "  'Legacy of Silence',\n",
              "  'The Brethren',\n",
              "  'The King of Torts',\n",
              "  'The Curious Incident of the Dog in the Night-Time : A Novel',\n",
              "  'Bleachers',\n",
              "  'Sisterhood of the Traveling Pants',\n",
              "  'Only Love (Magical Love)',\n",
              "  'All or Nothing (Wheeler Large Print Books)',\n",
              "  'Roses Are Red (Alex Cross Novels)',\n",
              "  'The Rescue',\n",
              "  'Manhattan Hunt Club',\n",
              "  \"Patty Jane's House of Curl (Ballantine Reader's Circle)\",\n",
              "  'Pet Sematary',\n",
              "  'Silent Snow',\n",
              "  'Girl with a Pearl Earring',\n",
              "  'Summer of Storms',\n",
              "  'The Patient',\n",
              "  \"Demona's Revenge (Gargoyles, No. 2)\",\n",
              "  \"Clifford's Sports Day\",\n",
              "  'Postmortem (Kay Scarpetta Mysteries (Paperback))',\n",
              "  'Deception Point',\n",
              "  'Tis : A Memoir',\n",
              "  'Angels &amp; Demons',\n",
              "  'A Monk Swimming',\n",
              "  'Crazy Horse',\n",
              "  'The Silent Cry (William Monk Novels (Paperback))',\n",
              "  \"The Kalahari Typing School for Men (No. 1 Ladies' Detective Agency)\",\n",
              "  'Chicken Soup for the Soul (Chicken Soup for the Soul)',\n",
              "  'Wicked: The Life and Times of the Wicked Witch of the West',\n",
              "  'Life of Pi',\n",
              "  'A Judgement in Stone',\n",
              "  'Lies and the Lying Liars Who Tell Them: A Fair and Balanced Look at the Right',\n",
              "  'Secret History',\n",
              "  \"Chicken Soup for the Woman's Soul (Chicken Soup for the Soul Series (Paper))\",\n",
              "  'Great Expectations (Heinemann Guided Readers)',\n",
              "  'The Weight of Water',\n",
              "  'Moving Pictures (Discworld Novels (Paperback))',\n",
              "  'Night Watch',\n",
              "  'Thief of Time',\n",
              "  \"Charlotte's Web Book and Charm (Charming Classics)\",\n",
              "  'Peter Pan: The Original Story (Peter Pan)',\n",
              "  'My Friend Flicka',\n",
              "  'The Last Hero : A Discworld Fable (Discworld Novels (Hardcover))',\n",
              "  'Jingo: A Discworld Novel (Discworld Series/Terry Pratchett)',\n",
              "  'Maskerade: A Novel of Discworld (Pratchett, Terry. Discworld Series (New York, N.Y.).)',\n",
              "  'Interesting Times: A Novel of Discworld',\n",
              "  \"On the Bright Side, I'm Now the Girlfriend of a Sex God: Further Confessions of Georgia Nicolson\",\n",
              "  'Mansfield Park (Penguin Popular Classics)',\n",
              "  'The Wind in the Willows',\n",
              "  'The Winter King: A Novel of Arthur (The Warlord Chronicles: I)',\n",
              "  'Moonheart (Newford)',\n",
              "  \"The King of Elfland's Daughter (Del Rey Impact)\",\n",
              "  'Powder and Patch',\n",
              "  'The Picture of Dorian Gray (Modern Library (Paperback))',\n",
              "  'The Iron Giant',\n",
              "  'James and the Giant Peach',\n",
              "  'The Amber Spyglass (His Dark Materials, Book 3)',\n",
              "  'The Golden Compass (His Dark Materials, Book 1)',\n",
              "  'The Subtle Knife (His Dark Materials, Book 2)',\n",
              "  'The Adrian Mole Diaries : The Secret Diary of Adrian Mole, Aged 13 3/4 : The Growing Pains of Adrian Mole',\n",
              "  'Martian Chronicles',\n",
              "  'The Great God Pan',\n",
              "  'Possession: A Romance',\n",
              "  'Born Confused',\n",
              "  'Confessions of a Shopaholic',\n",
              "  'Making Minty Malone',\n",
              "  'Little Women (Signet Classic)',\n",
              "  'Emma (Signet Classics (Paperback))',\n",
              "  'Animal Farm',\n",
              "  'Great Expectations (Dover Thrift Editions)',\n",
              "  'Eva Luna',\n",
              "  'Poisonwood Bible Edition Uk',\n",
              "  'The Green Man : Tales from the Mythic Forest',\n",
              "  \"Nicholas Nickleby (Everyman's Library)\",\n",
              "  'Angels &amp; Insects : Two Novellas',\n",
              "  'Catch 22',\n",
              "  'The Forsyte Saga : The Man of Property and In Chancery',\n",
              "  'The Enchanted Wood',\n",
              "  'The Folk of the Faraway Tree',\n",
              "  'Angels and Visitations: A Miscellany',\n",
              "  'League of Extraordinary Gentlemen, Vol. 2 (Comic)',\n",
              "  'Preludes and Nocturnes (Sandman, Book 1)',\n",
              "  'The League of Extraordinary Gentlemen, Vol. 1',\n",
              "  'Harlequin Valentine',\n",
              "  'Alpha Teach Yourself American Sign Language in 24 Hours (Alpha Teach Yourself in 24 Hours)',\n",
              "  'A Man in Full',\n",
              "  'The Miracle Life of Edgar Mint: A Novel',\n",
              "  'October Sky: A Memoir',\n",
              "  'A Painted House',\n",
              "  'The Romance Reader',\n",
              "  'Far from the Madding Crowd (Wordsworth Classics)',\n",
              "  'The Perfect Storm : A True Story of Men Against the Sea',\n",
              "  'The Battle for God',\n",
              "  'Sappho: A New Translation',\n",
              "  'The Postman (Bantam Classics)',\n",
              "  'The Tortilla Curtain',\n",
              "  'Symposium',\n",
              "  \"The What's Happening to My Body? Book for Boys: A Growing Up Guide for Parents and Sons\",\n",
              "  'OBJECT AFFECTION',\n",
              "  'The Journey Home',\n",
              "  'Taking the Ferry Home',\n",
              "  'Angel of Hope (Mercy Trilogy)',\n",
              "  'The Breach',\n",
              "  'Neanderthal: A Novel',\n",
              "  'A Small Dark Place',\n",
              "  'The Rivan Codex : Ancient Texts of THE BELGARIAD and THE MALLOREON',\n",
              "  'Babyhood',\n",
              "  \"Year's Best Fantasy (Year's Best Fantasy)\",\n",
              "  'Dave Barry in Cyberspace',\n",
              "  'Wolf Moon',\n",
              "  'The War in Heaven (Eternal Warriors)',\n",
              "  'Waiting',\n",
              "  'Nowhere To Run',\n",
              "  'Frankenstein (Dover Thrift Editions)',\n",
              "  'El gust amarg de la cervesa (Collecció Clàssica)',\n",
              "  'Urn Burial',\n",
              "  'All Our Yesterdays (Large Print)',\n",
              "  'What Shall I Be (Barbie Carryalong)',\n",
              "  'ALL THAT REMAINS',\n",
              "  'Last Chance to See',\n",
              "  \"Vinegar Hill (Oprah's Book Club (Paperback))\",\n",
              "  'Affinity',\n",
              "  'Diario de Ana Frank',\n",
              "  'Desert Notes/River Notes',\n",
              "  'The Best Democracy Money Can Buy: The Truth About Corporate Cons, Globalization and High-Finance Fraudsters',\n",
              "  'The Hunt for Red October',\n",
              "  'The Music Box',\n",
              "  'Liberty Falling (Anna Pigeon Mysteries (Paperback))',\n",
              "  'El Palacio de La Luna',\n",
              "  'Mientras Escribo',\n",
              "  'Killer Market (Deborah Knott Mysteries (Paperback))',\n",
              "  'Remembering Peter Gzowski : A Book of Tributes',\n",
              "  'The Best Canadian Animal Stories: Classic Tales by Master Storytellers',\n",
              "  'Trying to Save Piggy Sneed',\n",
              "  'Herr Der Fliegen (Fiction, Poetry and Drama)',\n",
              "  'Seattle Access',\n",
              "  'REAL GUIDE: CALIFORNIA AND THE WEST COAST (The Real guides)',\n",
              "  'Bel Canto',\n",
              "  'James and the Giant Peach',\n",
              "  'The Secret Life of Bees',\n",
              "  'What a Wonderful World: A Lifetime of Recordings',\n",
              "  'Digital Fortress : A Thriller',\n",
              "  'The Ladies of Missalonghi',\n",
              "  'Blackberry Wine : A Novel',\n",
              "  'The Firm',\n",
              "  \"How the Irish Saved Civilization: The Untold Story of Ireland's Heroic Role from the Fall of Rome to the Rise of Medieval Europe (Hinges of History)\",\n",
              "  'The Client',\n",
              "  'Thieves of Light (Photon : the Ultimate Game on Planet Earth)',\n",
              "  \"Horse Heaven (Ballantine Reader's Circle)\",\n",
              "  'Danger',\n",
              "  'Proof',\n",
              "  'Heart of the Sea (Irish Trilogy)',\n",
              "  'Mostly Harmless',\n",
              "  'I Spy: A Book of Picture Riddles',\n",
              "  'I Spy Spooky Night: A Book of Picture Riddles (I Spy Books)',\n",
              "  'Lake News',\n",
              "  'The SKULL BENEATH THE SKIN',\n",
              "  'NEW SHOE',\n",
              "  'An Accidental Woman',\n",
              "  'The Snow Garden',\n",
              "  'The Doorbell Rang (The Best Mysteries of All Time)',\n",
              "  'A Year by the Sea: Thoughts of an Unfinished Woman',\n",
              "  'Though I walk through the valley',\n",
              "  'Victorious Christians You Should Know',\n",
              "  'Life Lessons: Book Of Hebrews',\n",
              "  'Inside out',\n",
              "  'Son Rise: The Miracle Continues',\n",
              "  'Unveiled at Last',\n",
              "  'The Day I Almost Quit',\n",
              "  'Serving As Senders: How to Care for Your Missionaries While They Are Preparing to Go, While They Are on the Field, When They Return Home',\n",
              "  'House of Stairs',\n",
              "  'The Little Prince',\n",
              "  'Jonathan Livingston Seagull',\n",
              "  'The Crystal Handbook',\n",
              "  'Simple Wicca (Simple Wisdom Book)',\n",
              "  \"The Complete Book of Incense, Oils &amp; Brews (Llewellyn's Practical Magick)\",\n",
              "  'The Western Mysteries: An Encyclopedic Guide to the Sacred Languages &amp; Magickal Systems of the World : The Key of It All, Book II (Key of It All)',\n",
              "  'Astral Travel for Beginners (For Beginners)',\n",
              "  'New Perspectives: Runes',\n",
              "  \"Rosie'S Walk\",\n",
              "  'Julius Caesar (Oxford School Shakespeare)',\n",
              "  \"Santa Brought A Son : Marrying The Boss's Daughter (Silhouette Romance, 1698)\",\n",
              "  'Marry Me ... Again   Montana Mavericks (Silhouette Special Edition, 1558)',\n",
              "  \"Alice's Adventures in Wonderland and Through the Looking Glass\",\n",
              "  'Moonlight Becomes You',\n",
              "  'The Adventures of Tom Sawyer',\n",
              "  'Divine Secrets of the Ya-Ya Sisterhood : A Novel',\n",
              "  'Lakota Woman',\n",
              "  'The Perfect Storm : A True Story of Men Against the Sea',\n",
              "  'Heroes of Their Own Lives: The Politics and History of Family Violence, Boston 1880-1960',\n",
              "  'The Florence King Reader',\n",
              "  'The Lovely Bones: A Novel',\n",
              "  'Impossible Vacation',\n",
              "  'Hannibal',\n",
              "  'London : The Novel',\n",
              "  'Life Before Man',\n",
              "  'Cavedweller',\n",
              "  'The Robber Bride',\n",
              "  \"Wouldn't Take Nothing for My Journey Now\",\n",
              "  'The House of Mirth (Library of America)',\n",
              "  'Ohitika Woman',\n",
              "  'Black Elk Speaks: Being the Life Story of a Holy Man of the Oglala Sioux',\n",
              "  'The Community in America',\n",
              "  'The Best in Tent Camping: Smoky Mountains : A Guide for Campers Who Hate Rvs, Concrete Slabs, and Loud Portable Stereos (Best in Tent Camping Colorado)',\n",
              "  'Mawrdew Czgowchwz (New York Review Books Classics)',\n",
              "  'Prozac Nation: Young and Depressed in America : A Memoir',\n",
              "  'The Journey From Here',\n",
              "  'The Four Agreements: A Practical Guide to Personal Freedom',\n",
              "  'El desarrollo de Leonardo da Vinci (Biografías y memorias)',\n",
              "  \"Gastronomia divina (L'áncora)\",\n",
              "  'Desaparecido: LA Autentica Historia De LA Ejecucion De Charles Horman',\n",
              "  'Hotel Europa (El Balancí)',\n",
              "  'La dona dels ulls de pluja: Barcelona anys 90 (El Balancí)',\n",
              "  'El paraíso (Tiempos modernos)',\n",
              "  'Negra i consentida (Col¨lecció El Mirall)',\n",
              "  'Essa efa (Col¨lecció El Mirall i el temps)',\n",
              "  'Espurnes de sang (La Negra)',\n",
              "  \"Les llengües d'Africa (Biblioteca universal Empúries)\",\n",
              "  'Trànsit (Area contemporània)',\n",
              "  \"L'home del sac\",\n",
              "  'Gràcies per la propina (Columna)',\n",
              "  'El dia que es va cremar el Liceu (La primera Columna)',\n",
              "  'Cómo ser una mujer y no morir en el intento (Colección El Papagayo)',\n",
              "  'Una casa en Irlanda',\n",
              "  'La mirada del tafur (Col¨lecció clàssica)',\n",
              "  'Amorrada al piló (Columna)',\n",
              "  'Blur (Melody Maker)',\n",
              "  'War and Peace (Wordsworth Classics)',\n",
              "  'A-Z of Behaving Badly',\n",
              "  'He Understanding Masculine Psychology',\n",
              "  'Las DOS Muertes De Gardel (Ficcionario)',\n",
              "  'You Can Surf the Net: Your Guide to the World of the Internet',\n",
              "  'I Want to Be...a Veterinarian (I Want to Be... Series)',\n",
              "  \"Alice's Tulips\",\n",
              "  'Centaur Aisle',\n",
              "  'Crewel Lye',\n",
              "  'Dragonflight (Dragonriders of Pern Trilogy (Paperback))',\n",
              "  'Last Sword of Power (Stones of Power)',\n",
              "  'Dating Big Bird',\n",
              "  'The Firm',\n",
              "  'Murder at the Kennedy Center (Capital Crime Mysteries)',\n",
              "  'Guinness World Records 2000 (Guinness Book of Records, 2000)',\n",
              "  'Forever Amber Brown (Amber Brown (Paperback))',\n",
              "  \"Philip Jose Farmer's The Dungeon\",\n",
              "  'Pool of Radiance: The Ruins of Myth Drannor (Forgotten Realms)',\n",
              "  \"Feminism and Suffrage: The Emergence of an Independent Women's Movement in America, 1848-1869\",\n",
              "  'Why Are Boys So Weird (Tales from Third Grade)',\n",
              "  'Sheldon &amp; Mrs. Levine: An Excruciating Correspondence',\n",
              "  'Black Beauty (Great Illustrated Classics (Playmore))',\n",
              "  'Oliver Twist (Great Illustrated Classics)',\n",
              "  'The wild ponies of Assateague Island (Books for young explorers)',\n",
              "  'Frankenstein (Illustrated Classics Series)',\n",
              "  'The Scarlet Letter',\n",
              "  'Dragonsong (Harper Hall Trilogy)',\n",
              "  'The Watch House',\n",
              "  'Was It Something I Said?',\n",
              "  'Cloud Nine',\n",
              "  'The Lovely Bones',\n",
              "  'The Tortilla Curtain',\n",
              "  'Sarah Conley',\n",
              "  'A Widow for One Year',\n",
              "  'The Clearing',\n",
              "  'Empire Falls',\n",
              "  'Oryx and Crake',\n",
              "  \"Sophie's World: A Novel About the History of Philosophy (Berkeley Signature Edition)\",\n",
              "  'Black and Blue',\n",
              "  'Le Divorce (William Abrahams Book)',\n",
              "  'The Face',\n",
              "  \"She's Come Undone (Oprah's Book Club)\",\n",
              "  'Falling Leaves: The True Story of an Unwanted Chinese Daughter',\n",
              "  'Nickel and Dimed: On (Not) Getting By in America',\n",
              "  'The Game of Kings (Lymond Chronicles, 1)',\n",
              "  'RUSSIA HOUSE, THE',\n",
              "  'Solv-A-Crime Puzzles (Dover Game and Puzzle Activity Books)',\n",
              "  'The First Wives Club Movie Tie In',\n",
              "  'Selected Poems of Emily Dickinson',\n",
              "  \"Watercolor School (Reader's Digest Learn-As-You-Go Guides)\",\n",
              "  'Joshua In the Holy Land',\n",
              "  'The Messenger',\n",
              "  \"Sisters of the Earth: Women's Prose and Poetry About Nature\",\n",
              "  \"Left Behind: A Novel of the Earth's Last Days (Left Behind No. 1)\",\n",
              "  'Househusband',\n",
              "  \"Life Messages: Inspiration For The Woman's Spirit\",\n",
              "  'Letters from a Nut',\n",
              "  'Karl Marx: A Life',\n",
              "  'The Shining',\n",
              "  'The Diary of Ellen Rimbauer: My Life at Rose Red',\n",
              "  'The Sky Is Falling',\n",
              "  'Santa Pete : A Novel Of Christmas Present And Past',\n",
              "  'Mount Vernon Love Story : A Novel of George and Martha Washington',\n",
              "  \"The Kingdom: Arabia and the House of Sa'Ud\",\n",
              "  'Florida Road Kill: A Novel',\n",
              "  'The 37th Hour',\n",
              "  'Be Cool',\n",
              "  'The Hunted',\n",
              "  'The Saints of Big Harbour: A Novel',\n",
              "  'Old Flames',\n",
              "  'From the Earth: Chinese Vegetarian Cooking',\n",
              "  'Living in the Presence: Disciplines for the Spiritual Heart',\n",
              "  'The Bean Trees',\n",
              "  'Homeland and Other Stories',\n",
              "  'A Suitable Boy : Novel, A',\n",
              "  'Daughter of Fortune',\n",
              "  'The Fly on the Wall',\n",
              "  \"Cranford (The World's Classics)\",\n",
              "  'The Red Tent (Bestselling Backlist)',\n",
              "  'The Right Hand of Amon',\n",
              "  'Last Blue: Poems',\n",
              "  \"The Cat Who Wasn't There\",\n",
              "  'Isle of Dogs',\n",
              "  'Light a Penny Candle',\n",
              "  'The Blue Last: A Richard Jury Mystery (Richard Jury Mysteries (Paperback))',\n",
              "  'Turn of the Screw and Short N',\n",
              "  'The Country of the Pointed Firs (Dover Thrift Editions)',\n",
              "  'Early Poems (Dover Thrift Editions)',\n",
              "  'Barchester Towers (Oxford Pocket Classics)',\n",
              "  'REEF',\n",
              "  'Wednesday the Rabbi Got Wet',\n",
              "  'Things My Girlfriend and I Have Argued About: A Novel',\n",
              "  'Listening Hearts: Discerning Call in Community',\n",
              "  'Unattainable Earth',\n",
              "  \"The Practice of Prayer (New Church's Teaching Series, Vol 4)\",\n",
              "  'Vertical Poetry: Recent Poems',\n",
              "  \"Rubinstein's Chess Masterpieces\",\n",
              "  'The Nanny Diaries: A Novel',\n",
              "  'Biblioteca Universale Rizzoli: Sulla Sponda Del Fiume Piedra',\n",
              "  \"I Giorni Dell'abbandono\",\n",
              "  'The Gizmo',\n",
              "  'The Last Best Hope of Earth: Abraham Lincoln and the Promise of America',\n",
              "  'Organic Chemistry (Saunders Golden Sunburst Series)',\n",
              "  \"Secrets of St. John's Wort: A Lynn Sonberg Book\",\n",
              "  'Diet for a Poisoned Planet: How to Choose Safe Foods for You and Your Family',\n",
              "  \"Punished by Rewards: The Trouble With Gold Stars, Incentive Plans, A'S, Praise, and Other Bribes\",\n",
              "  'Montessori Today: A Comprehensive Approach to Education from Birth to Adulthood',\n",
              "  \"Oil Painting Techniques (Artist's Painting Library)\",\n",
              "  'Going down swinging',\n",
              "  'Confessions of a Sociopathic Social Climber : The Katya Livingston Chronicles (Katya Livingston Chronicles (Hardcover))',\n",
              "  'Like a Hole in the Head',\n",
              "  'Postmortem',\n",
              "  'The Cove',\n",
              "  'An Inconvenient Woman',\n",
              "  'Shock Wave (Dirk Pitt Adventures (Paperback))',\n",
              "  'While My Pretty One Sleeps',\n",
              "  'Antipodes 10',\n",
              "  'Kick Ass: Selected Columns of Carl Hiaasen',\n",
              "  'Everything Is Illuminated: A Novel',\n",
              "  'Life of Pi',\n",
              "  'Rules of the Wild',\n",
              "  'Three Junes',\n",
              "  'Back Roads',\n",
              "  'In Her Shoes : A Novel',\n",
              "  'The Kiss',\n",
              "  'Home Spun: A Collection',\n",
              "  'Sweet Hereafter Movie Tie-In : A Novel',\n",
              "  'The Rime of the Ancient Mariner and Other Poems',\n",
              "  '11th Hour',\n",
              "  'In Country RI',\n",
              "  'Brazen Virtue',\n",
              "  'Ghost Moon',\n",
              "  'Brewing Up a Storm: A John Thatcher Mystery',\n",
              "  'Strangers',\n",
              "  'Milk and Honey (Peter Decker/Rina Lazarus Novels)',\n",
              "  \"The Deep End of the Ocean (Oprah's Book Club)\",\n",
              "  'Night Tales',\n",
              "  \"A Thousand Acres (Ballantine Reader's Circle)\",\n",
              "  'Chopping Spree',\n",
              "  'Four Blondes',\n",
              "  \"River's End\",\n",
              "  'Summer Island',\n",
              "  'The Straw Men',\n",
              "  'The Doctor the Patient: The Personal Journey of a Physician With Cancer',\n",
              "  'The Street Lawyer',\n",
              "  'The Chamber',\n",
              "  'Warlock : A Novel of Ancient Egypt',\n",
              "  'The Teacher from the Black Lagoon',\n",
              "  'The Partner',\n",
              "  'Primal Scream',\n",
              "  'Chosen Prey',\n",
              "  'Guilty as Sin',\n",
              "  'Night Sins',\n",
              "  'The Second Time Around : A Novel',\n",
              "  'Three',\n",
              "  'The Canopy',\n",
              "  'Blink',\n",
              "  'Last Battle',\n",
              "  'Prince Caspian',\n",
              "  \"Robert's Rules of Order\",\n",
              "  'Abduction',\n",
              "  'And Never Let Her Go : Thomas Capano: The Deadly Seducer',\n",
              "  'Not a Day Goes By : A Novel',\n",
              "  'Sun Signs',\n",
              "  'The Vampire Lestat (Vampire Chronicles, Book II)',\n",
              "  'The Mummy or Ramses the Damned',\n",
              "  'HIS LITTLE WOMEN : HIS LITTLE WOMEN',\n",
              "  \"Her Mother's Daughter\",\n",
              "  'Your Erroneous Zones',\n",
              "  'The Night Listener',\n",
              "  'Organizing from the Inside Out',\n",
              "  'The Hellfire Club',\n",
              "  'The Diary of Jack the Ripper/the Discovery, the Investigation, the Debate',\n",
              "  'Vanished',\n",
              "  'The Women in His Life (G K Hall Large Print Book Series)',\n",
              "  'The Morning After',\n",
              "  'Missing Susan',\n",
              "  'Hiding in the Shadows (Shadows Trilogy (Paperback))',\n",
              "  'Kitchen Privileges : A Memoir',\n",
              "  \"We Are Our Mothers' Daughters\",\n",
              "  \"Horus's Horrible Day (First Graders from Mars)\",\n",
              "  'My Garden (Beginning Literacy)',\n",
              "  '101 Dalmatians',\n",
              "  \"In the Dinosaur's Paw (Kids of the Polk Street School)\",\n",
              "  'Ralph S. Mouse',\n",
              "  'The First Journey (Animorphs. Alternamorphs, 1)',\n",
              "  'How Do Dinosaurs Learn to Read',\n",
              "  'My First Book about Space (Golden Look-Look Books (Paperback))',\n",
              "  'You Be the Jury #02',\n",
              "  'Comic Characters',\n",
              "  'The Time Machine (Troll Illustrated Classics)',\n",
              "  'I Like School (in My World Series)',\n",
              "  'Sacred Ground',\n",
              "  'Burning Water (Burning Water)',\n",
              "  'The Tightrope Walker',\n",
              "  \"MoveOn's 50 Ways to Love Your Country: How to Find Your Political Voice and Become a Catalyst for Change\",\n",
              "  'Children of the Night',\n",
              "  'Rainbow the Stormy Life of Judy Garland',\n",
              "  'Cold Mountain (MTI) (Vintage Contemporaries)',\n",
              "  'A Fountain Filled With Blood (A Rev. Clare Ferguson Mystery)',\n",
              "  'Out of the Deep I Cry : A Clare Fergusson/Russ Van Alstyne Mystery',\n",
              "  'Daisy Fay and the Miracle Man',\n",
              "  'Little House On the Prairie',\n",
              "  \"Angela's Ashes: A Memoir\",\n",
              "  'The Next Accident',\n",
              "  'Socks (Cleary Reissue)',\n",
              "  'The Pet Shop Mystery (Boxcar Children Special (Paper), No 7)',\n",
              "  'In the Bleak Midwinter (A Rev. Clare Ferguson Mystery)',\n",
              "  'The Amber Spyglass (His Dark Materials, Book 3)',\n",
              "  'The Subtle Knife (His Dark Materials, Book 2)',\n",
              "  'The Golden Compass (His Dark Materials, Book 1)',\n",
              "  'Eyeshot',\n",
              "  'If Ever I Return, Pretty Peggy-O',\n",
              "  'The Rosewood Casket',\n",
              "  'The Amazing Mrs. Pollifax',\n",
              "  'Fast Food Nation: The Dark Side of the All-American Meal',\n",
              "  'The Unsung Hero',\n",
              "  'Two Princesses of Bamarre, The',\n",
              "  'Ella Enchanted (rack)',\n",
              "  'Passing for Thin : Losing Half My Weight and Finding My Self',\n",
              "  \"Bloodlines (Dog Lover's Mysteries)\",\n",
              "  'Kissing in Manhattan',\n",
              "  'Echoes',\n",
              "  'Someone to Watch Over Me : A Novel',\n",
              "  'The Toynbee Convector',\n",
              "  'One for the Money (Stephanie Plum Novels (Paperback))',\n",
              "  'The Bell Jar : A Novel (Perennial Classics)',\n",
              "  'A polar bear called Pingo',\n",
              "  'Dark Lady',\n",
              "  'The Future Scrolls',\n",
              "  'About Face',\n",
              "  'Tarot Says Beware (A Herculeah Jones Mystery)',\n",
              "  'Globalhead',\n",
              "  'Along Came a Spider (Alex Cross Novels)',\n",
              "  'Simple Abundance:  A Daybook of Comfort and Joy',\n",
              "  'The River King',\n",
              "  'Final Appeal',\n",
              "  'Who Moved My Cheese? An Amazing Way to Deal with Change in Your Work and in Your Life',\n",
              "  'Atonement',\n",
              "  'Why Do Clocks Run Clockwise? and Other Imponderables: Mysteries of Everyday Life Explained',\n",
              "  'Someone to Watch Over Me : Stories',\n",
              "  'Stately Pursuits',\n",
              "  'The Pinball Effect: How Renaissance Water Gardens Made the Carburetor Possible-And Other Journeys Through Knowledge (Pinball Effect)',\n",
              "  'My Father, Dancing (Harvest Book)',\n",
              "  'Women on the Case',\n",
              "  'New Cardiff',\n",
              "  'Almost: A Novel',\n",
              "  'A Tally of Types: With Additions by Several Hands ; And With a New Introduction by Mike Parker',\n",
              "  'Stand Still Like the Hummingbird',\n",
              "  'Crossing the Unknown Sea: Work As a Pilgrimage of Identity',\n",
              "  \"The Future of Leadership: Today's Top Leadership Thinkers Speak to Tomorrow's Leaders\",\n",
              "  'Expecting Adam: A True Story of Birth, Rebirth, and Everyday Magic',\n",
              "  'No Future Without Forgiveness',\n",
              "  'A Call to Conscience : The Landmark Speeches of Dr. Martin Luther King, Jr.',\n",
              "  'On the Road (Penguin 20th Century Classics)',\n",
              "  'I And Thou',\n",
              "  'The Prince (Dover Thrift Editions)',\n",
              "  'Sarajevo, maybe (Anni Novanta/Feltrinelli)',\n",
              "  'Becoming a Man : Half a Life Story',\n",
              "  'OLD MAN AND THE SEA',\n",
              "  'Diary of a Teenage Girl - Becoming Me : Diary Number 1 (Diary of a Teenage Girl)',\n",
              "  'The Dominant Blonde',\n",
              "  \"Where the Heart Is (Oprah's Book Club (Paperback))\",\n",
              "  \"The Girls' Guide to Hunting and Fishing\",\n",
              "  \"Rena's Promise: A Story of Sisters in Auschwitz\",\n",
              "  'America the Beautiful: A Novel',\n",
              "  'Easy Travel to Other Planets',\n",
              "  'The Mist and the Magic (Harper Monogram)',\n",
              "  'Icy Sparks',\n",
              "  'The True and Outstanding Adventures of the Hunt Sisters: A Novel',\n",
              "  \"The Time Traveler's Wife\",\n",
              "  'Strange Fits of Passion: A Novel',\n",
              "  'The Monk Downstairs: A Novel',\n",
              "  'Lost in Place: Growing Up Absurd in Suburbia',\n",
              "  'My Name Is Asher Lev',\n",
              "  'Waking the Dead',\n",
              "  \"Davita's Harp\",\n",
              "  'The Book of Lights',\n",
              "  'The Mimic Men',\n",
              "  'The Mystic Masseur',\n",
              "  'Regain',\n",
              "  'Le Grand Meaulnes (Classiques De Poche)',\n",
              "  \"A l'Ouest rien de nouveau\",\n",
              "  \"Pourquoi j'ai mang?© mon p?¨re\",\n",
              "  'Ravage',\n",
              "  \"Voyage d'une parisienne ?\\xa0 Lhassa\",\n",
              "  'Les Fleurs Du Mal',\n",
              "  'Chroniques martiennes',\n",
              "  'Le Diable Au Corps',\n",
              "  \"La Faute de l'abb?© Mouret\",\n",
              "  \"L'Homme Qui Plantait Des Arbres\",\n",
              "  'La Guerre Des Boutons',\n",
              "  'Paroles de Poilus : Lettres et carnets du front 1914-1918',\n",
              "  \"Une porte sur l'?©t?©\",\n",
              "  'Die Entdeckung der Langsamkeit.',\n",
              "  'Die Grenzen des Geschlechts: Anleitungen zum Sturz des internationalen Patriarchats : Amnesty for Women (Rororo Sachbuch)',\n",
              "  'Frauen der Welt: Vom Fortschritt der Ungleichheit',\n",
              "  'I Ging. Das Buch der Wandlung. Das gro??e Weisheits- und Orakelbuch der alten Chinesen.',\n",
              "  'African Women: Their Struggle for Economic Independence',\n",
              "  'Die globalisierte Frau: Berichte aus der Zukunft der Ungleichheit (Frauen aktuell)',\n",
              "  'Women are the Niggers of the World: über Frauen, Herrenmenschen und Nietzsches Peitsche (AtV Dokument und Essay)',\n",
              "  'Sense and Sensibility (Penguin Popular Classics)',\n",
              "  'Der gemietete Mann.',\n",
              "  'Der Gott der kleinen Dinge.',\n",
              "  'The Da Vinci Code',\n",
              "  'The Rescue',\n",
              "  'A Map of the World',\n",
              "  'Edge of Danger',\n",
              "  'Bridget Jones : The Edge of Reason',\n",
              "  \"Vinegar Hill (Oprah's Book Club (Hardcover))\",\n",
              "  \"The Pilot's Wife : A Novel Tag: Author of the Weight of Water (Oprah's Book Club (Hardcover))\",\n",
              "  'Saving Private Ryan: A Novel',\n",
              "  'Big Trouble',\n",
              "  'Snow Falling on Cedars',\n",
              "  'Skipping Christmas',\n",
              "  'The Reader',\n",
              "  'Cheaters',\n",
              "  'Angel Falls',\n",
              "  'The Saving Graces : A Novel',\n",
              "  \"Daddy's Little Girl\",\n",
              "  'The Vineyard : A Novel',\n",
              "  'The Looking Glass : A Novel (The Locket Series)',\n",
              "  'If Only It Were True',\n",
              "  'Dear Stranger, Dearest Friend',\n",
              "  'The Cider House Rules: A Novel (Modern Library)',\n",
              "  \"Lolita (Everyman's Library (Cloth))\",\n",
              "  'Message in a Bottle',\n",
              "  'Blackbird: A Childhood Lost and Found',\n",
              "  'Protect and Defend',\n",
              "  'Blue Heaven (Contemporary American Fiction S.)',\n",
              "  'Julie and Romeo',\n",
              "  'The Guardian',\n",
              "  'Nights in Rodanthe',\n",
              "  'Man and Boy',\n",
              "  'One Heart',\n",
              "  'Like Water for Chocolate: A Novel in Monthly Installments, With Recipes, Romances, and Home Remedies',\n",
              "  'The Two Towers (The Lord of the Rings, Part 2)',\n",
              "  'All of Me: A Voluptuous Tale',\n",
              "  'The Perfect Storm: A True Story of Men Against the Sea',\n",
              "  'The Villa',\n",
              "  'In This Mountain',\n",
              "  'All the Pretty Horses (Border Trilogy, Vol 1)',\n",
              "  \"Suzanne's Diary for Nicholas\",\n",
              "  \"He Sees You When You're Sleeping : A Novel\",\n",
              "  '2nd Chance',\n",
              "  'The Carousel : A Novel',\n",
              "  'The Promise Remains',\n",
              "  'You Cannot Be Serious',\n",
              "  'LAKE NEWS : A Novel',\n",
              "  \"Liar's Game\",\n",
              "  'Out of the Blue',\n",
              "  'Voice of the Eagle',\n",
              "  'The Kingdom by the Sea: A Journey Around Great Britain',\n",
              "  'Shattered Uk',\n",
              "  'The Proud and the Free',\n",
              "  'Shoah',\n",
              "  'The Bad Beginning (A Series of Unfortunate Events, Book 1)',\n",
              "  'TERROR FIRMA',\n",
              "  'Le Loup-garou',\n",
              "  \"Chronique d'une mort annonc?©e\",\n",
              "  \"Le neveu d'Am?©rique\",\n",
              "  'Last Exit to Brooklyn',\n",
              "  \"More George W. Bushisms: More Verbal Contortions from America's 43rd President\",\n",
              "  'Therapy',\n",
              "  'Scottish Ghosts',\n",
              "  'Awful End (Eddie Dickens Trilogy S.)',\n",
              "  'The Wasp Factory',\n",
              "  'George W. Bushisms : The Slate Book of The Accidental Wit and Wisdom of our 43rd President',\n",
              "  \"The World's Stupidest Laws\",\n",
              "  'Of Mice and Men (Steinbeck \\\\Essentials\\\\\")\"',\n",
              "  \"The World's Stupidest Signs\",\n",
              "  'Nessie: The Loch Ness Monster',\n",
              "  \"XIII, tome 13, L'enqu?ªte : the XIII mystery\",\n",
              "  'How Not to Say What You Mean: A Dictionary of Euphemisms (Oxford Paperback Reference S.)',\n",
              "  \"Cooking for One (Cook's Essentials)\",\n",
              "  'Les Fourmis',\n",
              "  'How to Draw Celtic Knotwork: A Practical Handbook',\n",
              "  \"The Sorcerer's Companion: A Guide to the Magical World of Harry Potter\",\n",
              "  'Celtic Myths and Legends',\n",
              "  'Scottish Folk and Fairy Tales (Penguin Popular Classics)',\n",
              "  'Terrible Times (Eddie Dickens Trilogy S.)',\n",
              "  \"Cantilènes en gelée ; Barnum's digest ; Vingt poèmes inédits (10/18 [i.e. Dix/dix-huit] ; 517)\",\n",
              "  'Glasgow Zen',\n",
              "  'Totally Muffins Cookbook (Totally Cookbooks)',\n",
              "  \"Tigger's Little Book of Diet and Exercise\",\n",
              "  \"Eeyore's Little Book of Gloom\",\n",
              "  'The Adventures of Dougal',\n",
              "  'Amy and Isabelle',\n",
              "  'Rule of the Bone : Novel, A',\n",
              "  'Me Talk Pretty One Day',\n",
              "  'Stone Butch Blues',\n",
              "  'stardust',\n",
              "  'Fires of Aggar',\n",
              "  'Kamikaze Lust',\n",
              "  'Gossamer Axe',\n",
              "  'Witchfire',\n",
              "  'Seven Moves',\n",
              "  'Return to Isis',\n",
              "  'Hood',\n",
              "  'Leaving Pipe Shop: Memories of Kin',\n",
              "  'Love Ruins Everything: A Novel',\n",
              "  'Skin: Talking About Sex, Class &amp; Literature',\n",
              "  \"Death: At Death's Door (Vertigo, Number 1)\",\n",
              "  'The Second Coming of Curly Red',\n",
              "  'Night Mares',\n",
              "  \"Hen's Teeth\",\n",
              "  'The Door to December',\n",
              "  'No Shirt, No Shoes, No Problem!',\n",
              "  'The Scions of Shannara (Heritage of Shannara (Paperback))',\n",
              "  'Star Wars the Rebel Dawn: The Han Solo Trilogy (Star Wars: Han Solo Trilogy (Paperback))',\n",
              "  'The Hutt Gambit (Star Wars: The Han Solo Trilogy, Vol. 2)',\n",
              "  'The Paradise Snare (Star Wars: The Han Solo Trilogy, Volume 1)',\n",
              "  'A Year of Full Moons',\n",
              "  'Alanna: The First Adventure (Song of the Lioness (Paperback))',\n",
              "  'The Beans of Egypt, Maine',\n",
              "  'Warrior Moon',\n",
              "  'The Funhouse',\n",
              "  'Cold Iron',\n",
              "  'Circle of Three #12: Written in the Stars (Circle of Three)',\n",
              "  'The Space Merchants',\n",
              "  'DREAMSNAKE',\n",
              "  'Titan',\n",
              "  'The Year They Burned the Books',\n",
              "  'A Density of Souls',\n",
              "  'Slow River',\n",
              "  'Changer',\n",
              "  'Trixie Belden and the Mystery Off Glen Road (Mystery Off Glen Road)',\n",
              "  'Lark in the Morning',\n",
              "  'Saving Grace',\n",
              "  'Lena (50 State Quarters)',\n",
              "  \"I Hadn't Meant to Tell You This\",\n",
              "  \"Raise the Roof: The Inspiring Inside Story of the Tennessee Lady Vols' Undefeated 1997-98 Season\",\n",
              "  \"Ufos, JFK and Elvis: Conspiracies You Don't Have to Be Crazy to Believe\",\n",
              "  'Hannibal',\n",
              "  'About a Boy (Movie Tie-In)',\n",
              "  'Mostly Harmless',\n",
              "  'The Thorn Birds (Modern Classics)',\n",
              "  'Dreamcatcher',\n",
              "  'Sudden Mischief (Spenser Mysteries (Hardcover))',\n",
              "  'Elements of Programming With Perl',\n",
              "  'To Catch a Cat',\n",
              "  'People of the Wolf (The First North Americans series, Book 1)',\n",
              "  'The Door to December',\n",
              "  'College Majors and Careers: A Resource Guide for Effective Life Planning (College Majors and Careers)',\n",
              "  \"Smilla's Sense of Snow\",\n",
              "  'The Grass Is Always Greener over the Septic Tank',\n",
              "  'Viaggi del tempo immobile (I coralli)',\n",
              "  'Rumpole on Trial',\n",
              "  'Billy Bathgate',\n",
              "  'Citizens: A Chronicle of the French Revolution',\n",
              "  'The Man Who Killed the Deer',\n",
              "  'The Music of Dolphins (Apple Signature Edition)',\n",
              "  'Sunwing (Aladdin Fantasy)',\n",
              "  \"Caddie Woodlawn - Newbery Promo '99 (Aladdin Fiction)\",\n",
              "  'The Hork-Bajir Chronicles (Animorphs Series)',\n",
              "  'The Silver Chair (full color) (Narnia)',\n",
              "  \"The Magician's Nephew (Narnia)\",\n",
              "  'Circles in the Stream (Avalon: Web of Magic, 1)',\n",
              "  'High Wizardry: The Third Book in the Young Wizards Series',\n",
              "  'Deep Wizardry: The Second Book in the Young Wizards Series',\n",
              "  'So You Want to Be a Wizard: The First Book in the Young Wizards Series',\n",
              "  'Going for Great (Ag Fiction (American Girl))',\n",
              "  'All That Glitters (Avalon, 2)',\n",
              "  'Cry of the Wolf (Avalon, 3)',\n",
              "  'The Secret of the Unicorn (Avalon Web of Magic, 4)',\n",
              "  'Avalon: Web Of Magic #5: Spellsinger',\n",
              "  'Trial by Fire',\n",
              "  'Ties That Bind, Ties That Break (Laurel-Leaf Books)',\n",
              "  'The Hauntings of Williamsburg, Yorktown, and Jamestown',\n",
              "  \"The Janitor's Boy\",\n",
              "  \"The Hitchhiker's Guide to the Galaxy\",\n",
              "  'The Giver (21st Century Reference)',\n",
              "  'The Heavenly Man: The Remarkable True Story of Chinese Christian Brother Yun',\n",
              "  'The Little Book of Chocolate (Little Book Of...(Flammarion))',\n",
              "  'Das Schlampenbuch. Erz?¤hlungen. ( neue frau).',\n",
              "  'Die zwei Gesichter des Januars.',\n",
              "  'Nacht ?¼ber den Wassern.',\n",
              "  'Die S?¤ulen der Erde. Roman.',\n",
              "  'A Man Rides Through (Man Rides Through)',\n",
              "  \"Mirror of Her Dreams (Mordant's Need)\",\n",
              "  'Reader',\n",
              "  'The Dead Zone',\n",
              "  'The Diary of Ellen Rimbauer: My Life at Rose Red',\n",
              "  'A New Germany in a New Europe',\n",
              "  'Belonging in the Two Berlins : Kin, State, Nation (Cambridge Studies in Social and Cultural Anthropology)',\n",
              "  'The Great Depression : America 1929-1941',\n",
              "  'Lady of the Shroud',\n",
              "  'Dark Tide I: Onslaught (Star Wars: The New Jedi Order, Book 2)',\n",
              "  'LONG DARK TEA TIME OF THE SOUL',\n",
              "  'The Return of Simple',\n",
              "  'Half Moon Street (Charlotte &amp; Thomas Pitt Novels (Paperback))',\n",
              "  'A Minor Indiscretion (Red Dress Ink (Paperback))',\n",
              "  'For Better, for Worse: A Novel',\n",
              "  'Hidden in Plain View: A Secret Story of Quilts and the Underground Railroad',\n",
              "  'The Forest House',\n",
              "  'American Poetry Since 1970: Up Late',\n",
              "  'Twin Blessings (Love Inspired (Numbered))',\n",
              "  'West of Dodge: Frontier Stories',\n",
              "  'How to Make $1,000 a Minute: Negotiating Salaries and Raises',\n",
              "  'Non-manipulative selling',\n",
              "  'Come Before Winter and Share My Hope',\n",
              "  'The Bear and the Dragon',\n",
              "  \"Ender's Game (Ender Wiggins Saga (Paperback))\",\n",
              "  'Thinking on paper',\n",
              "  'Net Force',\n",
              "  'The Testament',\n",
              "  'The Internet Church',\n",
              "  'The Mp3 and Internet Audio Handbook: Your Guide to the Digital Music Revolution',\n",
              "  'The Way Things Ought to Be',\n",
              "  'A Time to Kill',\n",
              "  \"The Truth About Texas: Who Needs to Brag? We'Ve Got the Facts\",\n",
              "  'Awakening',\n",
              "  \"Wall Street's Picks for 2000: An Insider's Guide to the Year's Best Stocks &amp; Mutual Funds (Wall Street's Picks)\",\n",
              "  'Poetics of the New American Poetry',\n",
              "  'Patriot Games',\n",
              "  'Dead Men Do Tell Tales: The Strange and Fascinating Cases of a Forensic Anthropologist',\n",
              "  'Moonlighting: 148 Great Ways to Make Money on the Side',\n",
              "  'Amanda Miranda',\n",
              "  'Chasing the Dime',\n",
              "  'Tender Triumph (Sonnet Books)',\n",
              "  'The Cat Who Tailed a Thief',\n",
              "  'Guilt',\n",
              "  'On Secret Service',\n",
              "  'Charming Billy',\n",
              "  'All the Days of My Life',\n",
              "  'The Dinner Party',\n",
              "  'A Palette for Murder: Murder She Wrote (Murder She Wrote (Paperback))',\n",
              "  'Golden Cup',\n",
              "  'Murder at the Library of Congress (Capital Crimes (Paperback))',\n",
              "  'No Safe Place',\n",
              "  'Thorns of Truth',\n",
              "  'Granny Dan',\n",
              "  'Border Bride',\n",
              "  'The Penwyth Curse',\n",
              "  'Xanth 15: The Color of Her Panties',\n",
              "  'Der F?¼rst der Finsternis. Roman.',\n",
              "  \"A Reporter's Life\",\n",
              "  \"Jacob Marley's Christmas Carol\",\n",
              "  'Practice Makes Pregnant   Manhattan Multiples (Silhouette Special Edition, 1569)',\n",
              "  'The Secret Lives of Girls: What Good Girls Really Do--Sex Play, Aggression, and Their Guilt',\n",
              "  'Hound of the Baskervilles (Aladdin Classics)',\n",
              "  'SLEEPING MURDER',\n",
              "  'The Fractal Murders (Pepper Keane Mysteries)',\n",
              "  'Blowtorch Psycho.Com (Bone Chillers, No 18)',\n",
              "  'Final Stand',\n",
              "  'Christmas : A Holiday Treasury',\n",
              "  'Magic House of Numbers.',\n",
              "  'Lord of the Silent: A Novel of Suspense',\n",
              "  'Whisper to Me of Love',\n",
              "  'Wuthering Heights',\n",
              "  'The Stars Shine Down',\n",
              "  'Toxin',\n",
              "  'This Present Darkness',\n",
              "  'The Mothman Prophecies',\n",
              "  'Meet the Stars of Buffy the Vampire Slayer',\n",
              "  'Rush to the Altar  (Twin Brides)',\n",
              "  ...],\n",
              " 'vector': array([[-5.6489742e-05, -6.8678957e-05,  1.9431116e-06, ...,\n",
              "         -4.3755954e-06,  6.5509768e-05,  1.5275595e-04],\n",
              "        [-5.7314258e+00, -1.9499159e+01,  3.9629604e+01, ...,\n",
              "         -1.2797565e+02,  1.1426237e+01,  4.5122304e+00],\n",
              "        [ 3.6966859e-04,  1.3250095e-04,  8.3867664e-04, ...,\n",
              "         -2.8001357e-04,  4.8767470e-04,  5.5615115e-04],\n",
              "        ...,\n",
              "        [ 7.2875372e-09,  9.1184784e-09, -7.0236736e-09, ...,\n",
              "         -1.3044930e-09,  3.8719121e-09, -1.3741065e-08],\n",
              "        [ 2.0313171e-05, -1.4414368e-06,  4.8051043e-06, ...,\n",
              "          1.5746223e-06, -2.1784665e-06,  3.4552606e-08],\n",
              "        [-6.6470280e-03, -2.5323391e-02,  6.3499990e-03, ...,\n",
              "          3.2383900e-02,  4.4912291e-03,  4.0120972e-04]], dtype=float32)}"
            ]
          },
          "metadata": {},
          "execution_count": 18
        }
      ]
    },
    {
      "cell_type": "code",
      "metadata": {
        "colab": {
          "base_uri": "https://localhost:8080/"
        },
        "id": "8-2vRUra43lx",
        "outputId": "3be8e2b7-fe03-4043-87e6-6630a5a8e510"
      },
      "source": [
        "faiss.MatrixStats(vectors).comments.split(\"\\n\")"
      ],
      "execution_count": null,
      "outputs": [
        {
          "output_type": "execute_result",
          "data": {
            "text/plain": [
              "['analyzing 341762 vectors of size 64',\n",
              " 'no NaN or Infs in data',\n",
              " 'all vectors are distinct',\n",
              " 'range of L2 norms=[3.77163e-08, 1.6998e+07] (0 null vectors)',\n",
              " 'vectors have very large differences in norms, is this normal?',\n",
              " 'matrix contains no 0s',\n",
              " 'no constant dimensions',\n",
              " 'no dimension has a too large mean',\n",
              " 'stddevs per dimension are in [110.071 16076.6]',\n",
              " '']"
            ]
          },
          "metadata": {},
          "execution_count": 19
        }
      ]
    },
    {
      "cell_type": "markdown",
      "metadata": {
        "id": "JemhQUzx49bq"
      },
      "source": [
        "Exhaustive Search Using Faiss"
      ]
    },
    {
      "cell_type": "code",
      "metadata": {
        "id": "v9OjFKvu5AhE"
      },
      "source": [
        "index = faiss.IndexFlatL2(vectors.shape[1])\n",
        "index.add(vectors)"
      ],
      "execution_count": null,
      "outputs": []
    },
    {
      "cell_type": "code",
      "metadata": {
        "id": "pwqQXHTr5Dnl"
      },
      "source": [
        "search_vector = vectors[80:81]\n",
        "distances, indices = index.search(search_vector, 5)"
      ],
      "execution_count": null,
      "outputs": []
    },
    {
      "cell_type": "code",
      "metadata": {
        "colab": {
          "base_uri": "https://localhost:8080/",
          "height": 303
        },
        "id": "rZjYDI025GCj",
        "outputId": "95c21f65-fc1f-436e-e52c-d92ff4922a00"
      },
      "source": [
        "print(f\"The most similar movies to {names[80]} are:\\n\")\n",
        "print([names[i] for i in indices[0]])"
      ],
      "execution_count": null,
      "outputs": [
        {
          "output_type": "stream",
          "name": "stdout",
          "text": [
            "The most similar movies to Anil's Ghost are:\n",
            "\n"
          ]
        },
        {
          "output_type": "error",
          "ename": "IndexError",
          "evalue": "ignored",
          "traceback": [
            "\u001b[0;31m---------------------------------------------------------------------------\u001b[0m",
            "\u001b[0;31mIndexError\u001b[0m                                Traceback (most recent call last)",
            "\u001b[0;32m<ipython-input-22-e6f1c4171235>\u001b[0m in \u001b[0;36m<module>\u001b[0;34m()\u001b[0m\n\u001b[1;32m      1\u001b[0m \u001b[0mprint\u001b[0m\u001b[0;34m(\u001b[0m\u001b[0;34mf\"The most similar movies to {names[80]} are:\\n\"\u001b[0m\u001b[0;34m)\u001b[0m\u001b[0;34m\u001b[0m\u001b[0;34m\u001b[0m\u001b[0m\n\u001b[0;32m----> 2\u001b[0;31m \u001b[0mprint\u001b[0m\u001b[0;34m(\u001b[0m\u001b[0;34m[\u001b[0m\u001b[0mnames\u001b[0m\u001b[0;34m[\u001b[0m\u001b[0mi\u001b[0m\u001b[0;34m]\u001b[0m \u001b[0;32mfor\u001b[0m \u001b[0mi\u001b[0m \u001b[0;32min\u001b[0m \u001b[0mindices\u001b[0m\u001b[0;34m[\u001b[0m\u001b[0;36m0\u001b[0m\u001b[0;34m]\u001b[0m\u001b[0;34m]\u001b[0m\u001b[0;34m)\u001b[0m\u001b[0;34m\u001b[0m\u001b[0;34m\u001b[0m\u001b[0m\n\u001b[0m",
            "\u001b[0;32m<ipython-input-22-e6f1c4171235>\u001b[0m in \u001b[0;36m<listcomp>\u001b[0;34m(.0)\u001b[0m\n\u001b[1;32m      1\u001b[0m \u001b[0mprint\u001b[0m\u001b[0;34m(\u001b[0m\u001b[0;34mf\"The most similar movies to {names[80]} are:\\n\"\u001b[0m\u001b[0;34m)\u001b[0m\u001b[0;34m\u001b[0m\u001b[0;34m\u001b[0m\u001b[0m\n\u001b[0;32m----> 2\u001b[0;31m \u001b[0mprint\u001b[0m\u001b[0;34m(\u001b[0m\u001b[0;34m[\u001b[0m\u001b[0mnames\u001b[0m\u001b[0;34m[\u001b[0m\u001b[0mi\u001b[0m\u001b[0;34m]\u001b[0m \u001b[0;32mfor\u001b[0m \u001b[0mi\u001b[0m \u001b[0;32min\u001b[0m \u001b[0mindices\u001b[0m\u001b[0;34m[\u001b[0m\u001b[0;36m0\u001b[0m\u001b[0;34m]\u001b[0m\u001b[0;34m]\u001b[0m\u001b[0;34m)\u001b[0m\u001b[0;34m\u001b[0m\u001b[0;34m\u001b[0m\u001b[0m\n\u001b[0m",
            "\u001b[0;31mIndexError\u001b[0m: list index out of range"
          ]
        }
      ]
    },
    {
      "cell_type": "markdown",
      "metadata": {
        "id": "BXskBBEz5MlH"
      },
      "source": [
        "LSH"
      ]
    },
    {
      "cell_type": "code",
      "metadata": {
        "id": "giSlNoVfFSs5"
      },
      "source": [
        "data.keys()"
      ],
      "execution_count": null,
      "outputs": []
    },
    {
      "cell_type": "code",
      "metadata": {
        "id": "UIbh97Q85Y0B"
      },
      "source": [
        "class LSHIndex():\n",
        "    def __init__(self, vectors, labels):\n",
        "        self.dimension = vectors.shape[1]\n",
        "        self.vectors = vectors.astype('float32')\n",
        "        self.labels = labels    \n",
        "   \n",
        "    def build(self, num_bits=8):\n",
        "        self.index = faiss.IndexLSH(self.dimension, num_bits)\n",
        "        self.index.add(self.vectors)\n",
        "        \n",
        "    def query(self, vectors, k=10):\n",
        "        distances, indices = self.index.search(vectors, k) \n",
        "        # I expect only query on one vector thus the slice\n",
        "        return [self.labels[i] for i in indices[0]]"
      ],
      "execution_count": null,
      "outputs": []
    },
    {
      "cell_type": "code",
      "metadata": {
        "id": "VhUWLoVd5cPl"
      },
      "source": [
        "index = LSHIndex(data[\"vector\"], data[\"name\"])\n",
        "index.build()"
      ],
      "execution_count": null,
      "outputs": []
    },
    {
      "cell_type": "code",
      "metadata": {
        "id": "xjaPPyLz5c4w"
      },
      "source": [
        "index.query(data['vector'][80:81])"
      ],
      "execution_count": null,
      "outputs": []
    },
    {
      "cell_type": "markdown",
      "metadata": {
        "id": "R_jYpEG7CxPU"
      },
      "source": [
        "Product Quantization"
      ]
    },
    {
      "cell_type": "code",
      "metadata": {
        "id": "mNclJG8gCzOj"
      },
      "source": [
        "class IVPQIndex():\n",
        "    def __init__(self, vectors, labels):\n",
        "        self.dimention = vectors.shape[1]\n",
        "        self.vectors = vectors.astype('float32')\n",
        "        self.labels = labels\n",
        "\n",
        "\n",
        "    def build(self, number_of_partition=8, search_in_x_partitions=2, subvector_size=8):\n",
        "        quantizer = faiss.IndexFlatL2(self.dimention)\n",
        "        self.index = faiss.IndexIVFPQ(quantizer, \n",
        "                                      self.dimention, \n",
        "                                      number_of_partition, \n",
        "                                      search_in_x_partitions, \n",
        "                                      subvector_size)\n",
        "        self.index.train(self.vectors)\n",
        "        self.index.add(self.vectors)\n",
        "        \n",
        "    def query(self, vectors, k=10):\n",
        "        distances, indices = self.index.search(vectors, k) \n",
        "        return [self.labels[i] for i in indices[0]]"
      ],
      "execution_count": null,
      "outputs": []
    },
    {
      "cell_type": "code",
      "metadata": {
        "id": "goMY3BHAC7hU"
      },
      "source": [
        "index = IVPQIndex(data[\"vector\"], data[\"name\"])\n",
        "index.build()"
      ],
      "execution_count": null,
      "outputs": []
    },
    {
      "cell_type": "code",
      "metadata": {
        "id": "Xk3bk4UAC-Gu"
      },
      "source": [
        "book_index = 80\n",
        "book_vector = data['vector'][book_index:book_index+1]\n",
        "print(f\"The most simillar movies to {data['name'][book_index]} are:\")\n",
        "index.query(book_vector)"
      ],
      "execution_count": null,
      "outputs": []
    },
    {
      "cell_type": "markdown",
      "metadata": {
        "id": "BOcoLFv-FVUb"
      },
      "source": [
        "HNSW"
      ]
    },
    {
      "cell_type": "code",
      "metadata": {
        "id": "EUGZb4-DFYIr"
      },
      "source": [
        "class NMSLIBIndex():\n",
        "    def __init__(self, vectors, labels):\n",
        "        self.dimention = vectors.shape[1]\n",
        "        self.vectors = vectors.astype('float32')\n",
        "        self.labels = labels\n",
        "    def build(self):\n",
        "        self.index = nmslib.init(method='hnsw', space='cosinesimil')\n",
        "        self.index.addDataPointBatch(self.vectors)\n",
        "        self.index.createIndex({'post': 2})\n",
        "        \n",
        "    def query(self, vector, k=5):\n",
        "        indices = self.index.knnQuery(vector, k=k)\n",
        "        return [self.labels[i] for i in indices[0]]"
      ],
      "execution_count": null,
      "outputs": []
    },
    {
      "cell_type": "code",
      "metadata": {
        "id": "grzWTPeXFjNn"
      },
      "source": [
        "!pip install nmslib\n",
        "import nmslib\n",
        "index = NMSLIBIndex(data[\"vector\"], data[\"name\"])\n",
        "index.build()"
      ],
      "execution_count": null,
      "outputs": []
    },
    {
      "cell_type": "code",
      "metadata": {
        "id": "tH8fhkKGFmdO"
      },
      "source": [
        "book_vector, book_name = data['vector'][90], data['name'][90]\n",
        "simlar_book_names = '\\n* '.join(index.query(book_vector))\n",
        "print(f\"The most similar movies to {book_name} are:\\n* {simlar_book_names}\")"
      ],
      "execution_count": null,
      "outputs": []
    },
    {
      "cell_type": "markdown",
      "metadata": {
        "id": "DjXE2oMwLjiN"
      },
      "source": [
        "Trees and Graphs"
      ]
    },
    {
      "cell_type": "code",
      "metadata": {
        "id": "sMeTEJoHLjPV"
      },
      "source": [
        "class AnnoyIndex():\n",
        "    def __init__(self, vectors, labels):\n",
        "        self.dimention = vectors.shape[1]\n",
        "        self.vectors = vectors.astype('float32')\n",
        "        self.labels = labels\n",
        "\n",
        "\n",
        "    def build(self, number_of_trees=5):\n",
        "        self.index = annoy.AnnoyIndex(self.dimention)\n",
        "        for i, vec in enumerate(self.vectors):\n",
        "            self.index.add_item(i, vec.tolist())\n",
        "        self.index.build(number_of_trees)\n",
        "        \n",
        "    def query(self, vector, k=5):\n",
        "        indices = self.index.get_nns_by_vector(vector.tolist(), k)\n",
        "        return [self.labels[i] for i in indices]"
      ],
      "execution_count": null,
      "outputs": []
    },
    {
      "cell_type": "code",
      "metadata": {
        "id": "AgVtZVnmLqP9"
      },
      "source": [
        "!pip install annoy\n",
        "import annoy\n",
        "index = AnnoyIndex(data[\"vector\"], data[\"name\"])\n",
        "index.build()"
      ],
      "execution_count": null,
      "outputs": []
    },
    {
      "cell_type": "code",
      "metadata": {
        "id": "I_D8MKmKLrED"
      },
      "source": [
        "book_vector, book_name = data['vector'][90], data['name'][90]\n",
        "simlar_book_names = '\\n* '.join(index.query(book_vector))\n",
        "print(f\"The most similar movies to {book_name} are:\\n* {simlar_book_names}\")"
      ],
      "execution_count": null,
      "outputs": []
    }
  ]
}